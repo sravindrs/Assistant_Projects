{
 "cells": [
  {
   "cell_type": "code",
   "execution_count": 1,
   "metadata": {},
   "outputs": [],
   "source": [
    "from openai import OpenAI\n",
    "import time"
   ]
  },
  {
   "cell_type": "code",
   "execution_count": 2,
   "metadata": {},
   "outputs": [],
   "source": [
    "client = OpenAI()"
   ]
  },
  {
   "cell_type": "code",
   "execution_count": null,
   "metadata": {},
   "outputs": [],
   "source": [
    "solver = client.beta.assistants.create(\n",
    "    name = 'Math Problem Coder',\n",
    "    instructions = \"Write code to solve beginner or intermediate math problems\",\n",
    "    tools = [{\"type\" : \"code_interpreter\"}],\n",
    "    model=\"gpt-3.5-turbo-1106\"\n",
    "    )\n",
    "\n",
    "\n",
    "\n",
    "tester = client.beta.assistants.create(\n",
    "    name = \"Code Tester\",\n",
    "    instructions = \"Test and verify code solutions to check accuracy. Make necessary corrections, and display the final code.\",\n",
    "    tools = [{\"type\" : \"code_interpreter\"}],\n",
    "    model = \"gpt-3.5-turbo-1106\"\n",
    ")"
   ]
  },
  {
   "cell_type": "code",
   "execution_count": null,
   "metadata": {},
   "outputs": [],
   "source": [
    "math_problem = input(\"Enter the math problem you want to solve: \")"
   ]
  },
  {
   "cell_type": "code",
   "execution_count": null,
   "metadata": {},
   "outputs": [],
   "source": [
    "thread = client.beta.threads.create()"
   ]
  },
  {
   "cell_type": "code",
   "execution_count": null,
   "metadata": {},
   "outputs": [],
   "source": [
    "# Add a user message to the thread with a math problem\n",
    "message = client.beta.threads.messages.create(\n",
    "    thread_id=thread.id,\n",
    "    role=\"user\",\n",
    "    content=math_problem\n",
    ")\n"
   ]
  },
  {
   "cell_type": "code",
   "execution_count": null,
   "metadata": {},
   "outputs": [],
   "source": [
    "run_solver = client.beta.threads.runs.create(\n",
    "    thread_id = thread.id,\n",
    "    assistant_id = solver.id\n",
    ")\n",
    "\n",
    "\n",
    "while run_solver.status != \"completed\":\n",
    "    time.sleep(1)\n",
    "    run_solver - client.beta.threads.runs.retrieve(\n",
    "        thread_id=thread.id,\n",
    "        run_id= run_solver.id\n",
    "    )\n",
    "    \n",
    "    "
   ]
  },
  {
   "cell_type": "code",
   "execution_count": null,
   "metadata": {},
   "outputs": [],
   "source": [
    "run_tester = client.beta.threads.runs.create(\n",
    "    thread_id = thread.id,\n",
    "    assistant_id = tester.id\n",
    ")\n",
    "\n",
    "\n",
    "while run_solver.status != \"completed\":\n",
    "    time.sleep(1)\n",
    "    run_solver - client.beta.threads.runs.retrieve(\n",
    "        thread_id=thread.id,\n",
    "        run_id= tester.id\n",
    "    )"
   ]
  },
  {
   "cell_type": "code",
   "execution_count": null,
   "metadata": {},
   "outputs": [],
   "source": [
    "messages = client.beta.threads.messages.list(\n",
    "    thread_id= thread.id,\n",
    "    order = \"asc\"\n",
    ")\n"
   ]
  },
  {
   "cell_type": "code",
   "execution_count": null,
   "metadata": {},
   "outputs": [],
   "source": [
    "final_code = None\n",
    "\n",
    "for message in reversed(messages):\n",
    "    if message.role == \"assistant\":\n",
    "        final_code = message.content[-1].text.value\n",
    "        break\n",
    "        \n",
    "if final_code:\n",
    "    with open(\"final_solution.py\", \"w\") as file:\n",
    "        file.write(final_code)\n",
    "    print(\"Solution written to 'final_solution.py'\")\n",
    "else:\n",
    "    print(\"No solution found.\")"
   ]
  }
 ],
 "metadata": {
  "kernelspec": {
   "display_name": "Python 3",
   "language": "python",
   "name": "python3"
  },
  "language_info": {
   "codemirror_mode": {
    "name": "ipython",
    "version": 3
   },
   "file_extension": ".py",
   "mimetype": "text/x-python",
   "name": "python",
   "nbconvert_exporter": "python",
   "pygments_lexer": "ipython3",
   "version": "3.10.1"
  }
 },
 "nbformat": 4,
 "nbformat_minor": 2
}
