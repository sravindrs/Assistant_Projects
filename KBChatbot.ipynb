{
 "cells": [
  {
   "cell_type": "code",
   "execution_count": 1,
   "metadata": {},
   "outputs": [],
   "source": [
    "import pandas as pd\n",
    "import json\n",
    "from openai import OpenAI"
   ]
  },
  {
   "cell_type": "code",
   "execution_count": 2,
   "metadata": {},
   "outputs": [],
   "source": [
    "import time\n",
    "import os"
   ]
  },
  {
   "cell_type": "code",
   "execution_count": 3,
   "metadata": {},
   "outputs": [],
   "source": [
    "client = OpenAI()\n"
   ]
  },
  {
   "cell_type": "code",
   "execution_count": 5,
   "metadata": {},
   "outputs": [],
   "source": [
    "assistant = client.beta.assistants.create(\n",
    "    name = \"KnowledgeBased Chatbot\",\n",
    "    instructions= \"Use provided knowledge bases to answer questions.\",\n",
    "    tools = [{\"type\":\"retrieval\"}, {\"type\":\"code_interpreter\"}],\n",
    "    model = \"gpt-3.5-turbo-1106\"\n",
    ")\n",
    "\n",
    "\n",
    "numerical_file = client.files.create(\n",
    "  file=open(\"all_ai_tool.csv\", \"rb\"),\n",
    "  purpose='assistants'\n",
    ")\n",
    "\n",
    "text_file = client.files.create(\n",
    "  file=open(\"AI.txt\", \"rb\"),\n",
    "  purpose='assistants'\n",
    ")\n",
    "\n",
    "assistant = client.beta.assistants.create(\n",
    "    name = \"KnowledgeBased Chatbot\",\n",
    "    instructions= \"Use provided knowledge bases to answer questions.\",\n",
    "    tools = [{\"type\":\"retrieval\"}, {\"type\":\"code_interpreter\"}],\n",
    "    model = \"gpt-3.5-turbo-1106\",\n",
    "    file_ids=[numerical_file.id, text_file.id]\n",
    ")"
   ]
  },
  {
   "cell_type": "code",
   "execution_count": 6,
   "metadata": {},
   "outputs": [],
   "source": [
    "ai_query = input(\"Ask a question about artificial intelligence: \")\n"
   ]
  },
  {
   "cell_type": "code",
   "execution_count": 15,
   "metadata": {},
   "outputs": [],
   "source": [
    "def answer_question_(question):\n",
    "    thread = client.beta.threads.create()\n",
    "\n",
    "    client.beta.threads.messages.create(\n",
    "        thread_id= thread.id,\n",
    "        role = \"user\",\n",
    "        content = question)\n",
    "    \n",
    "    run = client.beta.threads.runs.create(\n",
    "        thread_id= thread.id,\n",
    "        assistant_id= assistant.id,\n",
    "    )\n",
    "\n",
    "\n",
    "    while run.status != \"completed\":\n",
    "        time.sleep(1)\n",
    "        run = client.beta.threads.runs.retrieve(thread_id=thread.id, run_id=run.id)\n",
    "    \n",
    "    \n",
    "    messages = client.beta.threads.messages.list(\n",
    "    thread_id= thread.id)\n",
    "    \n",
    "\n",
    "\n",
    "    for message in messages:\n",
    "        if message.role == 'assistant':\n",
    "            if hasattr(message.content, 'text'):\n",
    "                print(message.content)"
   ]
  },
  {
   "cell_type": "code",
   "execution_count": 20,
   "metadata": {},
   "outputs": [
    {
     "name": "stdout",
     "output_type": "stream",
     "text": [
      "Run Status: in_progress\n",
      "Run Status: in_progress\n",
      "Run Status: completed\n",
      "Unexpected content structure or empty response: [MessageContentText(text=Text(annotations=[], value='Chatbot GPT (Generative Pre-trained Transformer) is a type of conversational AI model developed by OpenAI. It is based on the transformer architecture and is trained on a diverse range of internet text, allowing it to generate human-like responses to input text. Chatbot GPT is designed to understand and respond to human language, making it suitable for a wide range of conversational applications, such as customer support, language translation, and personal assistants.\\n\\nDo you have a specific document related to Chatbot GPT that you would like me to review?'), type='text')]\n"
     ]
    }
   ],
   "source": [
    "\n",
    "import time\n",
    "\n",
    "def answer_question(question):\n",
    "    try:\n",
    "        # Create a new thread for the conversation\n",
    "        thread = client.beta.threads.create()\n",
    "\n",
    "        # Add the user's query as a message in the thread\n",
    "        client.beta.threads.messages.create(\n",
    "            thread_id=thread.id,\n",
    "            role=\"user\",\n",
    "            content=question)\n",
    "        \n",
    "        # Create a run to process the query with the assistant\n",
    "        run = client.beta.threads.runs.create(\n",
    "            thread_id=thread.id,\n",
    "            assistant_id=assistant.id,\n",
    "        )\n",
    "\n",
    "        # Wait for the run to complete\n",
    "        while run.status != \"completed\":\n",
    "            time.sleep(1)\n",
    "            run = client.beta.threads.runs.retrieve(thread_id=thread.id, run_id=run.id)\n",
    "            print(\"Run Status:\", run.status)  # Debug print\n",
    "\n",
    "        # Retrieve all messages from the thread\n",
    "        messages = client.beta.threads.messages.list(thread_id=thread.id)\n",
    "\n",
    "        # Iterate through the messages and print the assistant's response\n",
    "        for message in messages:\n",
    "            if message.role == 'assistant':\n",
    "                # Check the content structure and access the text value\n",
    "                if hasattr(message.content, 'text') and hasattr(message.content.text, 'value'):\n",
    "                    # Print only the text value\n",
    "                    print(message.content.text.value)\n",
    "                else:\n",
    "                    print(\"Unexpected content structure or empty response:\", message.content)\n",
    "    except Exception as e:\n",
    "        print(\"An error occurred:\", e)\n",
    "\n",
    "# Example usage\n",
    "ai_query = input(\"Ask a question about artificial intelligence: \")\n",
    "answer_question(ai_query)\n"
   ]
  }
 ],
 "metadata": {
  "kernelspec": {
   "display_name": "Python 3",
   "language": "python",
   "name": "python3"
  },
  "language_info": {
   "codemirror_mode": {
    "name": "ipython",
    "version": 3
   },
   "file_extension": ".py",
   "mimetype": "text/x-python",
   "name": "python",
   "nbconvert_exporter": "python",
   "pygments_lexer": "ipython3",
   "version": "3.10.1"
  }
 },
 "nbformat": 4,
 "nbformat_minor": 2
}
